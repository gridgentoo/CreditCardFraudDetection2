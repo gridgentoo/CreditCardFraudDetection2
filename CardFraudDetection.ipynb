{
 "cells": [
  {
   "cell_type": "markdown",
   "metadata": {
    "collapsed": true
   },
   "source": [
    "# Credit Card Fraud Detection\n",
    "# Обнаружение мошенничества с кредитными картами\n",
    "\n",
    "В рамках финансового сектора разрабатываются алгоритмы машинного обучения для [detect fraudulent transactions] обнаружения мошеннических транзакций. В этом проекте это именно то, что мы будем делать. Используя набор данных из почти 28 500 транзакций по кредитным картам и несколько алгоритмов обнаружения неконтролируемых аномалий, мы собираемся идентифицировать транзакции с высокой вероятностью мошенничества с кредитными картами. В этом проекте мы будем строить и развертывать следующие два алгоритма машинного обучения:\n",
    "\n",
    "* Local Outlier Factor (LOF)\n",
    "* Isolation Forest Algorithm\n",
    "\n",
    "Кроме того, используя метрики, такие как точность, отзыв и оценки F1-scores, мы исследуем, почему точность классификации для этих алгоритмов может вводить в заблуждение.\n",
    "\n",
    "Кроме того, мы рассмотрим использование методов визуализации данных, общих для науки о данных, таких как гистограммы параметров и матрицы корреляции, чтобы лучше понять лежащее в основе распределение данных в нашем наборе data set. \n",
    "\n",
    "## 1. Импорт необходимых библиотек\n",
    "\n",
    "Для начала давайте напечатаем номера версий всех библиотек, которые мы будем использовать в этом проекте. Это служит двум целям - это гарантирует правильность установки библиотек и гарантирует, что этот учебник будет воспроизводимым. "
   ]
  },
  {
   "cell_type": "code",
   "execution_count": null,
   "metadata": {},
   "outputs": [],
   "source": [
    "# import the necessary packages\n",
    "import numpy as np\n",
    "import pandas as pd\n",
    "import matplotlib.pyplot as plt\n",
    "import seaborn as sns"
   ]
  },
  {
   "cell_type": "code",
   "execution_count": null,
   "metadata": {},
   "outputs": [],
   "source": [
    "# import the necessary packages\n",
    "import numpy as np\n",
    "import pandas as pd\n",
    "import matplotlib.pyplot as plt\n",
    "import seaborn as sns"
   ]
  },
  {
   "cell_type": "code",
   "execution_count": null,
   "metadata": {},
   "outputs": [],
   "source": [
    "### 2. The Data Set\n",
    "\n",
    "В следующих  cells мы будем импортировать наш dataset из.CSV-файла в виде Pandas DataFrame. Кроме того, мы начнем изучение dataset-а, чтобы получить представление о типе, количестве и распределении данных в нашем dataset-е. Для этой цели мы будем использовать встроенную функцию описания Pandas, а также гистограммы параметров и корреляционную матрицу.\n"
   ]
  },
  {
   "cell_type": "code",
   "execution_count": null,
   "metadata": {},
   "outputs": [],
   "source": [
    "# Load the dataset from the csv file using pandas\n",
    "data = pd.read_csv('creditcard.csv')"
   ]
  }
 ],
 "metadata": {
  "kernelspec": {
   "display_name": "Python 2",
   "language": "python",
   "name": "python2"
  },
  "language_info": {
   "codemirror_mode": {
    "name": "ipython",
    "version": 2
   },
   "file_extension": ".py",
   "mimetype": "text/x-python",
   "name": "python",
   "nbconvert_exporter": "python",
   "pygments_lexer": "ipython2",
   "version": "2.7.6"
  }
 },
 "nbformat": 4,
 "nbformat_minor": 0
}
